{
 "cells": [
  {
   "cell_type": "code",
   "execution_count": 2,
   "metadata": {},
   "outputs": [
    {
     "name": "stderr",
     "output_type": "stream",
     "text": [
      "\u001b[32m\u001b[1m  Activating\u001b[22m\u001b[39m project at `~/src_nobackup/julia_ml_tests.jl.git`\n"
     ]
    }
   ],
   "source": [
    "# Packages\n",
    "using Pkg\n",
    "Pkg.activate(\".\")\n",
    "Pkg.instantiate()\n",
    "using CUDA\n",
    "using Flux\n",
    "using Statistics\n",
    "using ProgressMeter\n",
    "using Plots"
   ]
  },
  {
   "cell_type": "code",
   "execution_count": 3,
   "metadata": {},
   "outputs": [
    {
     "data": {
      "text/plain": [
       "(Matrix{Float32}, CuArray{Float32, 2, CUDA.Mem.DeviceBuffer})"
      ]
     },
     "metadata": {},
     "output_type": "display_data"
    }
   ],
   "source": [
    "# regular computations with the Flux.gpu and Flux.cpu functions\n",
    "a=randn(5,1000)\n",
    "a_gpu = a |> gpu\n",
    "b=ones(5,1000)\n",
    "b_gpu = b |> gpu\n",
    "c_gpu = sum(a_gpu.*b_gpu,dims=2)\n",
    "c = c_gpu |> cpu\n",
    "typeof(c),typeof(c_gpu)"
   ]
  },
  {
   "cell_type": "code",
   "execution_count": 4,
   "metadata": {},
   "outputs": [
    {
     "data": {
      "text/plain": [
       "4.0"
      ]
     },
     "metadata": {},
     "output_type": "display_data"
    }
   ],
   "source": [
    "#Note that the x |> gpu is the same as Flux.gpu(x)\n",
    "# the |> operator is called the pipe operator and is generic in Julia\n",
    "x=2.0\n",
    "f(x)=x^2\n",
    "y = x |> f #but it looks cooler than f(x)\n",
    "y"
   ]
  },
  {
   "cell_type": "code",
   "execution_count": 15,
   "metadata": {},
   "outputs": [
    {
     "name": "stdout",
     "output_type": "stream",
     "text": [
      "w = Float32[0.9782329 -0.32619792; -0.11098309 -0.6138578; 0.8926451 -0.3799693]\n",
      "b = Float32[0.0, 0.0, 0.0]\n",
      "activation = relu\n",
      "p = Params([Float32[0.9782329 -0.32619792; -0.11098309 -0.6138578; 0.8926451 -0.3799693], Float32[0.0, 0.0, 0.0]])\n"
     ]
    }
   ],
   "source": [
    "m = Dense(2=>3, relu)\n",
    "#@which m(ones(2))\n",
    "println(\"w = $(m.weight)\")\n",
    "println(\"b = $(m.bias)\")\n",
    "println(\"activation = $(m.σ)\")\n",
    "# apply\n",
    "x = rand(Float32,2)\n",
    "y = m(x)\n",
    "# apply to batch\n",
    "x = rand(Float32,2, 4)\n",
    "y = m(x)\n",
    "# get trainable parameters\n",
    "p=Flux.params(m)\n",
    "println(\"p = $(p)\")"
   ]
  },
  {
   "cell_type": "code",
   "execution_count": 36,
   "metadata": {},
   "outputs": [],
   "source": [
    "# we can also use CUDA to work directly with GPU. Flux provides the gpu and cpu functions as a wrapper to this that also works if there is no GPU available.\n",
    "a_gpu = cu(rand(1000,1000))\n",
    "b_gpu = cu(rand(1000,1000))\n",
    "c_gpu = a_gpu*b_gpu\n",
    "CUDA.@profile c_gpu=a_gpu*b_gpu;"
   ]
  },
  {
   "cell_type": "code",
   "execution_count": 28,
   "metadata": {},
   "outputs": [
    {
     "name": "stdout",
     "output_type": "stream",
     "text": [
      "number of devices = 1\n",
      "Info on first device:\n",
      "GPU = NVIDIA GeForce RTX 3050 Ti Laptop GPU\n",
      "GPU memory = 3.81298828125 Gb\n",
      "warpsize = 32\n",
      "capability = 8.6.0\n",
      "memory_pools_supported = true\n",
      "uuid = 8c480ede-6586-57c2-11ac-b9a589975f5f\n"
     ]
    }
   ],
   "source": [
    "# Some information about the GPU\n",
    "device = CUDA.device()\n",
    "println(\"number of devices = $(CUDA.ndevices())\")\n",
    "println(\"Info on first device:\")\n",
    "println(\"GPU = $(CUDA.name(device))\")\n",
    "println(\"GPU memory = $(CUDA.totalmem(device)/1024^3) Gb\")\n",
    "println(\"warpsize = $(CUDA.warpsize(device))\")\n",
    "println(\"capability = $(CUDA.capability(device))\")\n",
    "println(\"memory_pools_supported = $(CUDA.memory_pools_supported(device))\")\n",
    "println(\"uuid = $(CUDA.uuid(device))\")"
   ]
  },
  {
   "cell_type": "code",
   "execution_count": 33,
   "metadata": {},
   "outputs": [
    {
     "name": "stdout",
     "output_type": "stream",
     "text": [
      "Combined parameters: Params(["
     ]
    },
    {
     "name": "stdout",
     "output_type": "stream",
     "text": [
      "Float32[-1.0839155 0.60505545; -0.8642427 0.89124316; -0.2969589 -0.20246455], Float32[0.0, 0.0, 0.0], Float32[0.017702471 -1.1042601 -0.64565307], Float32[0.0]])\n"
     ]
    },
    {
     "data": {
      "text/plain": [
       "(Float32[-0.052845508], Float32[-0.052845508])"
      ]
     },
     "metadata": {},
     "output_type": "display_data"
    }
   ],
   "source": [
    "# Layers are stacked into a Chain\n",
    "NN_chain = Chain(\n",
    "    Dense(2, 3, relu),\n",
    "    Dense(3, 1)\n",
    ")\n",
    "println(\"Combined parameters: \", Flux.params(NN_chain))\n",
    "NN_chain[1], NN_chain[2]\n",
    "x1=rand(2) # 2-element input\n",
    "z1=NN_chain[1](x1) # 2-element input to first layer\n",
    "z2=NN_chain[2](z1) # 3-element output from first layer fed into second layer\n",
    "z2_chained=NN_chain(x1) # same as above\n",
    "z2, z2_chained"
   ]
  },
  {
   "cell_type": "code",
   "execution_count": 40,
   "metadata": {},
   "outputs": [
    {
     "data": {
      "text/plain": [
       "13-element Vector{Float32}:\n",
       " -1.0839155\n",
       " -0.8642427\n",
       " -0.2969589\n",
       "  0.60505545\n",
       "  0.89124316\n",
       " -0.20246455\n",
       "  0.0\n",
       "  0.0\n",
       "  0.0\n",
       "  0.017702471\n",
       " -1.1042601\n",
       " -0.64565307\n",
       "  0.0"
      ]
     },
     "metadata": {},
     "output_type": "display_data"
    }
   ],
   "source": [
    "# all parameters of the network as a vector\n",
    "collect(Iterators.Flatten(Flux.params(NN_chain)))"
   ]
  },
  {
   "cell_type": "code",
   "execution_count": null,
   "metadata": {},
   "outputs": [],
   "source": []
  }
 ],
 "metadata": {
  "kernelspec": {
   "display_name": "Julia 1.9.0",
   "language": "julia",
   "name": "julia-1.9"
  },
  "language_info": {
   "file_extension": ".jl",
   "mimetype": "application/julia",
   "name": "julia",
   "version": "1.9.0"
  },
  "orig_nbformat": 4
 },
 "nbformat": 4,
 "nbformat_minor": 2
}
