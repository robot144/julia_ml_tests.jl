{
 "cells": [
  {
   "cell_type": "markdown",
   "metadata": {},
   "source": [
    "Notebook for training a diffusion model on mnist data\n",
    "\n",
    "Sources:\n",
    "\n",
    "[The Network Code](https://github.com/FluxML/model-zoo/blob/master/vision/diffusion_mnist/diffusion_mnist.jl)\n",
    "\n",
    "[The Sampling Code](https://github.com/FluxML/model-zoo/blob/master/vision/diffusion_mnist/diffusion_plot.jl)\n",
    "\n",
    "[Useful Explainer](https://yang-song.net/blog/2021/score/)\n",
    "\n",
    "[Original Paper](https://arxiv.org/pdf/2011.13456.pdf)\n",
    "\n",
    "TO DO:\n",
    "- Optimize code: training is not as fast as expected? 5min for 10 epochs with 1000 images\n",
    "    - Mainly due to compiling. After that about 18min for 60k images and 30 epochs\n",
    "- Make compatible with job submission\n",
    "- Include more samples: Predictor Corrector and Diff. Eq. solver (see explainer and sampling code links)\n",
    "- Image inpainting: adapt sampling to image inpainting (see python code attached to original paper)"
   ]
  },
  {
   "cell_type": "code",
   "execution_count": 1,
   "metadata": {},
   "outputs": [
    {
     "name": "stderr",
     "output_type": "stream",
     "text": [
      "\u001b[32m\u001b[1m  Activating\u001b[22m\u001b[39m project at `~/bathy_machine_learning/julia_ml_tests.jl.git`\n"
     ]
    }
   ],
   "source": [
    "# Dependencies\n",
    "using Pkg\n",
    "Pkg.activate(\"/home/mverlaan/bathy_machine_learning/julia_ml_tests.jl.git/\")\n",
    "# include(\"diffusion_unet_model.jl\")\n",
    "include(\"unet_large.jl\")\n",
    "# include(\"diffusion_sampling.jl\")\n",
    "using MLDatasets\n",
    "using CUDA\n",
    "using ProgressMeter: Progress, next!\n",
    "using BSON"
   ]
  },
  {
   "cell_type": "code",
   "execution_count": 8,
   "metadata": {},
   "outputs": [
    {
     "data": {
      "text/plain": [
       "gpu (generic function with 5 methods)"
      ]
     },
     "metadata": {},
     "output_type": "display_data"
    }
   ],
   "source": [
    "# Hyper Parameters\n",
    "n_images = 60000\n",
    "channels = [32, 64, 128, 256] # No of channels in Unet conv layers\n",
    "embed_dim = 256 # dimensionality of Fourier projection\n",
    "scale = 30.0f0 # scale parameter of Fourier projection\n",
    "lr = 0.0001\n",
    "\n",
    "nr_epochs = 50\n",
    "batch_size = 32\n",
    "device = gpu"
   ]
  },
  {
   "cell_type": "code",
   "execution_count": 9,
   "metadata": {},
   "outputs": [],
   "source": [
    "# Get Train data\n",
    "xtrain, ytrain = MNIST(:train)[1:n_images]\n",
    "xtrain = reshape(xtrain, (28,28,1,:));"
   ]
  },
  {
   "cell_type": "code",
   "execution_count": null,
   "metadata": {},
   "outputs": [],
   "source": []
  },
  {
   "cell_type": "code",
   "execution_count": 10,
   "metadata": {},
   "outputs": [
    {
     "data": {
      "text/plain": [
       "1875-element DataLoader(::MLUtils.MappedData{:auto, typeof(gpu), Tuple{Array{Float32, 4}, Vector{Int64}}}, shuffle=true, batchsize=32)\n",
       "  with first element:\n",
       "  (28×28×1×32 CuArray{Float32, 4, CUDA.Mem.DeviceBuffer}, 32-element CuArray{Int64, 1, CUDA.Mem.DeviceBuffer},)"
      ]
     },
     "metadata": {},
     "output_type": "display_data"
    }
   ],
   "source": [
    "# Things for the training loop\n",
    "\n",
    "data_loader = Flux.DataLoader((xtrain,ytrain), batchsize=batch_size, shuffle=true) |> device\n",
    "# if device == gpu\n",
    "#     data_loader |> device\n",
    "# end\n",
    "# data_loader"
   ]
  },
  {
   "cell_type": "code",
   "execution_count": 5,
   "metadata": {},
   "outputs": [],
   "source": [
    "unet_model = UNET(channels, embed_dim, scale) |> device\n",
    "\n",
    "opt = Adam(lr)\n",
    "\n",
    "params = Flux.params(unet_model);"
   ]
  },
  {
   "cell_type": "code",
   "execution_count": 6,
   "metadata": {},
   "outputs": [
    {
     "data": {
      "text/plain": [
       "1113.8665f0"
      ]
     },
     "metadata": {},
     "output_type": "display_data"
    }
   ],
   "source": [
    "# Test loss function\n",
    "\n",
    "test_loss = score_loss(unet_model, first(data_loader)[1])"
   ]
  },
  {
   "cell_type": "code",
   "execution_count": 11,
   "metadata": {},
   "outputs": [
    {
     "name": "stdout",
     "output_type": "stream",
     "text": [
      "Starting epoch no. 1\n"
     ]
    },
    {
     "name": "stdout",
     "output_type": "stream",
     "text": [
      "Starting epoch no. 2\n"
     ]
    },
    {
     "name": "stderr",
     "output_type": "stream",
     "text": [
      "\r\u001b[32mProgress:   4%|█▋                                       |  ETA: 0:40:10\u001b[39m\u001b[K\r\n",
      "\u001b[34m  loss:  36.16273620707194\u001b[39m\u001b[K\r\u001b[A"
     ]
    },
    {
     "name": "stdout",
     "output_type": "stream",
     "text": [
      "Starting epoch no. 3\n"
     ]
    },
    {
     "name": "stderr",
     "output_type": "stream",
     "text": [
      "\n",
      "\r\u001b[K\u001b[A\r\u001b[32mProgress:   6%|██▌                                      |  ETA: 0:39:25\u001b[39m\u001b[K\r\n",
      "\u001b[34m  loss:  26.968733470662436\u001b[39m\u001b[K\r\u001b[A"
     ]
    },
    {
     "name": "stdout",
     "output_type": "stream",
     "text": [
      "Starting epoch no. 4\n"
     ]
    },
    {
     "name": "stderr",
     "output_type": "stream",
     "text": [
      "\n",
      "\r\u001b[K\u001b[A\r\u001b[32mProgress:   8%|███▎                                     |  ETA: 0:38:32\u001b[39m\u001b[K\r\n",
      "\u001b[34m  loss:  22.977690797424316\u001b[39m\u001b[K\r\u001b[A"
     ]
    },
    {
     "name": "stdout",
     "output_type": "stream",
     "text": [
      "Starting epoch no. 5\n"
     ]
    },
    {
     "name": "stderr",
     "output_type": "stream",
     "text": [
      "\n",
      "\r\u001b[K\u001b[A\r\u001b[32mProgress:  10%|████▏                                    |  ETA: 0:37:41\u001b[39m\u001b[K\r\n",
      "\u001b[34m  loss:  20.871688801574706\u001b[39m\u001b[K\r\u001b[A"
     ]
    },
    {
     "name": "stdout",
     "output_type": "stream",
     "text": [
      "Starting epoch no. 6\n"
     ]
    },
    {
     "name": "stderr",
     "output_type": "stream",
     "text": [
      "\n",
      "\r\u001b[K\u001b[A\r\u001b[32mProgress:  12%|████▉                                    |  ETA: 0:36:53\u001b[39m\u001b[K\r\n",
      "\u001b[34m  loss:  19.697931122843425\u001b[39m\u001b[K\r\u001b[A"
     ]
    },
    {
     "name": "stdout",
     "output_type": "stream",
     "text": [
      "Starting epoch no. 7\n"
     ]
    },
    {
     "name": "stderr",
     "output_type": "stream",
     "text": [
      "\n",
      "\r\u001b[K\u001b[A\r\u001b[32mProgress:  14%|█████▊                                   |  ETA: 0:36:03\u001b[39m\u001b[K\r\n",
      "\u001b[34m  loss:  18.903551963297527\u001b[39m\u001b[K\r\u001b[A"
     ]
    },
    {
     "name": "stdout",
     "output_type": "stream",
     "text": [
      "Starting epoch no. 8\n"
     ]
    },
    {
     "name": "stderr",
     "output_type": "stream",
     "text": [
      "\n",
      "\r\u001b[K\u001b[A\r\u001b[32mProgress:  16%|██████▌                                  |  ETA: 0:35:12\u001b[39m\u001b[K\r\n",
      "\u001b[34m  loss:  18.44206424560547\u001b[39m\u001b[K\r\u001b[A"
     ]
    },
    {
     "name": "stdout",
     "output_type": "stream",
     "text": [
      "Starting epoch no. 9\n"
     ]
    },
    {
     "name": "stderr",
     "output_type": "stream",
     "text": [
      "\n",
      "\r\u001b[K\u001b[A\r\u001b[32mProgress:  18%|███████▍                                 |  ETA: 0:34:20\u001b[39m\u001b[K\r\n",
      "\u001b[34m  loss:  17.70435539855957\u001b[39m\u001b[K\r\u001b[A"
     ]
    },
    {
     "name": "stdout",
     "output_type": "stream",
     "text": [
      "Starting epoch no. 10\n"
     ]
    },
    {
     "name": "stderr",
     "output_type": "stream",
     "text": [
      "\n",
      "\r\u001b[K\u001b[A\r\u001b[32mProgress:  20%|████████▎                                |  ETA: 0:33:28\u001b[39m\u001b[K\r\n",
      "\u001b[34m  loss:  17.507859184265136\u001b[39m\u001b[K\r\u001b[A"
     ]
    },
    {
     "name": "stdout",
     "output_type": "stream",
     "text": [
      "Starting epoch no. 11\n"
     ]
    },
    {
     "name": "stderr",
     "output_type": "stream",
     "text": [
      "\n",
      "\r\u001b[K\u001b[A\r\u001b[32mProgress:  22%|█████████                                |  ETA: 0:32:37\u001b[39m\u001b[K\r\n",
      "\u001b[34m  loss:  17.205056246185304\u001b[39m\u001b[K\r\u001b[A"
     ]
    },
    {
     "name": "stdout",
     "output_type": "stream",
     "text": [
      "Starting epoch no. 12\n"
     ]
    },
    {
     "name": "stderr",
     "output_type": "stream",
     "text": [
      "\n",
      "\r\u001b[K\u001b[A\r\u001b[32mProgress:  24%|█████████▉                               |  ETA: 0:31:46\u001b[39m\u001b[K\r\n",
      "\u001b[34m  loss:  16.914793475087485\u001b[39m\u001b[K\r\u001b[A"
     ]
    },
    {
     "name": "stdout",
     "output_type": "stream",
     "text": [
      "Starting epoch no. 13\n"
     ]
    },
    {
     "name": "stderr",
     "output_type": "stream",
     "text": [
      "\n",
      "\r\u001b[K\u001b[A\r\u001b[32mProgress:  26%|██████████▋                              |  ETA: 0:30:55\u001b[39m\u001b[K\r\n",
      "\u001b[34m  loss:  16.7863297609965\u001b[39m\u001b[K\r\u001b[A"
     ]
    },
    {
     "name": "stdout",
     "output_type": "stream",
     "text": [
      "Starting epoch no. 14\n"
     ]
    },
    {
     "name": "stderr",
     "output_type": "stream",
     "text": [
      "\n",
      "\r\u001b[K\u001b[A\r\u001b[32mProgress:  28%|███████████▌                             |  ETA: 0:30:04\u001b[39m\u001b[K\r\n",
      "\u001b[34m  loss:  16.432853061421714\u001b[39m\u001b[K\r\u001b[A"
     ]
    },
    {
     "name": "stdout",
     "output_type": "stream",
     "text": [
      "Starting epoch no. 15\n"
     ]
    },
    {
     "name": "stderr",
     "output_type": "stream",
     "text": [
      "\n",
      "\r\u001b[K\u001b[A\r\u001b[32mProgress:  30%|████████████▎                            |  ETA: 0:29:16\u001b[39m\u001b[K\r\n",
      "\u001b[34m  loss:  16.458108537038168\u001b[39m\u001b[K\r\u001b[A"
     ]
    },
    {
     "name": "stdout",
     "output_type": "stream",
     "text": [
      "Starting epoch no. 16\n"
     ]
    },
    {
     "name": "stderr",
     "output_type": "stream",
     "text": [
      "\n",
      "\r\u001b[K\u001b[A\r\u001b[32mProgress:  32%|█████████████▏                           |  ETA: 0:28:26\u001b[39m\u001b[K\r\n",
      "\u001b[34m  loss:  16.251362398783368\u001b[39m\u001b[K\r\u001b[A"
     ]
    },
    {
     "name": "stdout",
     "output_type": "stream",
     "text": [
      "Starting epoch no. 17\n"
     ]
    },
    {
     "name": "stderr",
     "output_type": "stream",
     "text": [
      "\n",
      "\r\u001b[K\u001b[A\r\u001b[32mProgress:  34%|██████████████                           |  ETA: 0:27:37\u001b[39m\u001b[K\r\n",
      "\u001b[34m  loss:  16.010787084197997\u001b[39m\u001b[K\r\u001b[A"
     ]
    },
    {
     "name": "stdout",
     "output_type": "stream",
     "text": [
      "Starting epoch no. 18\n"
     ]
    },
    {
     "name": "stderr",
     "output_type": "stream",
     "text": [
      "\n",
      "\r\u001b[K\u001b[A\r\u001b[32mProgress:  36%|██████████████▊                          |  ETA: 0:26:47\u001b[39m\u001b[K\r\n",
      "\u001b[34m  loss:  15.929264224243164\u001b[39m\u001b[K\r\u001b[A"
     ]
    },
    {
     "name": "stdout",
     "output_type": "stream",
     "text": [
      "Starting epoch no. 19\n"
     ]
    },
    {
     "name": "stderr",
     "output_type": "stream",
     "text": [
      "\n",
      "\r\u001b[K\u001b[A\r\u001b[32mProgress:  38%|███████████████▋                         |  ETA: 0:25:56\u001b[39m\u001b[K\r\n",
      "\u001b[34m  loss:  15.753002808125814\u001b[39m\u001b[K\r\u001b[A"
     ]
    },
    {
     "name": "stdout",
     "output_type": "stream",
     "text": [
      "Starting epoch no. 20\n"
     ]
    },
    {
     "name": "stderr",
     "output_type": "stream",
     "text": [
      "\n",
      "\r\u001b[K\u001b[A\r\u001b[32mProgress:  40%|████████████████▍                        |  ETA: 0:25:05\u001b[39m\u001b[K\r\n",
      "\u001b[34m  loss:  15.675912519582113\u001b[39m\u001b[K\r\u001b[A"
     ]
    },
    {
     "name": "stdout",
     "output_type": "stream",
     "text": [
      "Starting epoch no. 21\n"
     ]
    },
    {
     "name": "stderr",
     "output_type": "stream",
     "text": [
      "\n",
      "\r\u001b[K\u001b[A\r\u001b[32mProgress:  42%|█████████████████▎                       |  ETA: 0:24:14\u001b[39m\u001b[K\r\n",
      "\u001b[34m  loss:  15.490304504648844\u001b[39m\u001b[K\r\u001b[A"
     ]
    },
    {
     "name": "stdout",
     "output_type": "stream",
     "text": [
      "Starting epoch no. 22\n"
     ]
    },
    {
     "name": "stderr",
     "output_type": "stream",
     "text": [
      "\n",
      "\r\u001b[K\u001b[A\r\u001b[32mProgress:  44%|██████████████████                       |  ETA: 0:23:23\u001b[39m\u001b[K\r\n",
      "\u001b[34m  loss:  15.301053005472818\u001b[39m\u001b[K\r\u001b[A"
     ]
    },
    {
     "name": "stdout",
     "output_type": "stream",
     "text": [
      "Starting epoch no. 23\n"
     ]
    },
    {
     "name": "stderr",
     "output_type": "stream",
     "text": [
      "\n",
      "\r\u001b[K\u001b[A\r\u001b[32mProgress:  46%|██████████████████▉                      |  ETA: 0:22:32\u001b[39m\u001b[K\r\n",
      "\u001b[34m  loss:  15.476687419891357\u001b[39m\u001b[K\r\u001b[A"
     ]
    },
    {
     "name": "stdout",
     "output_type": "stream",
     "text": [
      "Starting epoch no. 24\n"
     ]
    },
    {
     "name": "stderr",
     "output_type": "stream",
     "text": [
      "\n",
      "\r\u001b[K\u001b[A\r\u001b[32mProgress:  48%|███████████████████▋                     |  ETA: 0:21:42\u001b[39m\u001b[K\r\n",
      "\u001b[34m  loss:  15.344008082834879\u001b[39m\u001b[K\r\u001b[A"
     ]
    },
    {
     "name": "stdout",
     "output_type": "stream",
     "text": [
      "Starting epoch no. 25\n"
     ]
    },
    {
     "name": "stderr",
     "output_type": "stream",
     "text": [
      "\n",
      "\r\u001b[K\u001b[A\r\u001b[32mProgress:  50%|████████████████████▌                    |  ETA: 0:20:51\u001b[39m\u001b[K\r\n",
      "\u001b[34m  loss:  15.19048392232259\u001b[39m\u001b[K\r\u001b[A"
     ]
    },
    {
     "name": "stdout",
     "output_type": "stream",
     "text": [
      "Starting epoch no. 26\n"
     ]
    },
    {
     "name": "stderr",
     "output_type": "stream",
     "text": [
      "\n",
      "\r\u001b[K\u001b[A\r\u001b[32mProgress:  52%|█████████████████████▍                   |  ETA: 0:20:01\u001b[39m\u001b[K\r\n",
      "\u001b[34m  loss:  15.222222065989177\u001b[39m\u001b[K\r\u001b[A"
     ]
    },
    {
     "name": "stdout",
     "output_type": "stream",
     "text": [
      "Starting epoch no. 27\n"
     ]
    },
    {
     "name": "stderr",
     "output_type": "stream",
     "text": [
      "\n",
      "\r\u001b[K\u001b[A\r\u001b[32mProgress:  54%|██████████████████████▏                  |  ETA: 0:19:11\u001b[39m\u001b[K\r\n",
      "\u001b[34m  loss:  14.986678818766276\u001b[39m\u001b[K\r\u001b[A"
     ]
    },
    {
     "name": "stdout",
     "output_type": "stream",
     "text": [
      "Starting epoch no. 28\n"
     ]
    },
    {
     "name": "stderr",
     "output_type": "stream",
     "text": [
      "\n",
      "\r\u001b[K\u001b[A\r\u001b[32mProgress:  56%|███████████████████████                  |  ETA: 0:18:21\u001b[39m\u001b[K\r\n",
      "\u001b[34m  loss:  15.058788909403484\u001b[39m\u001b[K\r\u001b[A"
     ]
    },
    {
     "name": "stdout",
     "output_type": "stream",
     "text": [
      "Starting epoch no. 29\n"
     ]
    },
    {
     "name": "stderr",
     "output_type": "stream",
     "text": [
      "\n",
      "\r\u001b[K\u001b[A\r\u001b[32mProgress:  58%|███████████████████████▊                 |  ETA: 0:17:31\u001b[39m\u001b[K\r\n",
      "\u001b[34m  loss:  15.063174933624268\u001b[39m\u001b[K\r\u001b[A"
     ]
    },
    {
     "name": "stdout",
     "output_type": "stream",
     "text": [
      "Starting epoch no. 30\n"
     ]
    },
    {
     "name": "stderr",
     "output_type": "stream",
     "text": [
      "\n",
      "\r\u001b[K\u001b[A\r\u001b[32mProgress:  60%|████████████████████████▋                |  ETA: 0:16:41\u001b[39m\u001b[K\r\n",
      "\u001b[34m  loss:  15.013068962860107\u001b[39m\u001b[K\r\u001b[A"
     ]
    },
    {
     "name": "stdout",
     "output_type": "stream",
     "text": [
      "Starting epoch no. 31\n"
     ]
    },
    {
     "name": "stderr",
     "output_type": "stream",
     "text": [
      "\n",
      "\r\u001b[K\u001b[A\r\u001b[32mProgress:  62%|█████████████████████████▍               |  ETA: 0:15:51\u001b[39m\u001b[K\r\n",
      "\u001b[34m  loss:  14.996673910268148\u001b[39m\u001b[K\r\u001b[A"
     ]
    },
    {
     "name": "stdout",
     "output_type": "stream",
     "text": [
      "Starting epoch no. 32\n"
     ]
    },
    {
     "name": "stderr",
     "output_type": "stream",
     "text": [
      "\n",
      "\r\u001b[K\u001b[A\r\u001b[32mProgress:  64%|██████████████████████████▎              |  ETA: 0:15:01\u001b[39m\u001b[K\r\n",
      "\u001b[34m  loss:  14.768852278645832\u001b[39m\u001b[K\r\u001b[A"
     ]
    },
    {
     "name": "stdout",
     "output_type": "stream",
     "text": [
      "Starting epoch no. 33\n"
     ]
    },
    {
     "name": "stderr",
     "output_type": "stream",
     "text": [
      "\n",
      "\r\u001b[K\u001b[A\r\u001b[32mProgress:  66%|███████████████████████████              |  ETA: 0:14:11\u001b[39m\u001b[K\r\n",
      "\u001b[34m  loss:  14.954444603474935\u001b[39m\u001b[K\r\u001b[A"
     ]
    },
    {
     "name": "stdout",
     "output_type": "stream",
     "text": [
      "Starting epoch no. 34\n"
     ]
    },
    {
     "name": "stderr",
     "output_type": "stream",
     "text": [
      "\n",
      "\r\u001b[K\u001b[A\r\u001b[32mProgress:  68%|███████████████████████████▉             |  ETA: 0:13:20\u001b[39m\u001b[K\r\n",
      "\u001b[34m  loss:  14.714894054921468\u001b[39m\u001b[K\r\u001b[A"
     ]
    },
    {
     "name": "stdout",
     "output_type": "stream",
     "text": [
      "Starting epoch no. 35\n"
     ]
    },
    {
     "name": "stderr",
     "output_type": "stream",
     "text": [
      "\n",
      "\r\u001b[K\u001b[A\r\u001b[32mProgress:  70%|████████████████████████████▊            |  ETA: 0:12:30\u001b[39m\u001b[K\r\n",
      "\u001b[34m  loss:  14.767870145161947\u001b[39m\u001b[K\r\u001b[A"
     ]
    },
    {
     "name": "stdout",
     "output_type": "stream",
     "text": [
      "Starting epoch no. 36\n"
     ]
    },
    {
     "name": "stderr",
     "output_type": "stream",
     "text": [
      "\n",
      "\r\u001b[K\u001b[A\r\u001b[32mProgress:  72%|█████████████████████████████▌           |  ETA: 0:11:40\u001b[39m\u001b[K\r\n",
      "\u001b[34m  loss:  14.736205023701986\u001b[39m\u001b[K\r\u001b[A"
     ]
    },
    {
     "name": "stdout",
     "output_type": "stream",
     "text": [
      "Starting epoch no. 37\n"
     ]
    },
    {
     "name": "stderr",
     "output_type": "stream",
     "text": [
      "\n",
      "\r\u001b[K\u001b[A\r\u001b[32mProgress:  74%|██████████████████████████████▍          |  ETA: 0:10:50\u001b[39m\u001b[K\r\n",
      "\u001b[34m  loss:  14.634233628845214\u001b[39m\u001b[K\r\u001b[A"
     ]
    },
    {
     "name": "stdout",
     "output_type": "stream",
     "text": [
      "Starting epoch no. 38\n"
     ]
    },
    {
     "name": "stderr",
     "output_type": "stream",
     "text": [
      "\n",
      "\r\u001b[K\u001b[A\r\u001b[32mProgress:  76%|███████████████████████████████▏         |  ETA: 0:10:00\u001b[39m\u001b[K\r\n",
      "\u001b[34m  loss:  14.566524045562744\u001b[39m\u001b[K\r\u001b[A"
     ]
    },
    {
     "name": "stdout",
     "output_type": "stream",
     "text": [
      "Starting epoch no. 39\n"
     ]
    },
    {
     "name": "stderr",
     "output_type": "stream",
     "text": [
      "\n",
      "\r\u001b[K\u001b[A\r\u001b[32mProgress:  78%|████████████████████████████████         |  ETA: 0:09:10\u001b[39m\u001b[K\r\n",
      "\u001b[34m  loss:  14.443915852101643\u001b[39m\u001b[K\r\u001b[A"
     ]
    },
    {
     "name": "stdout",
     "output_type": "stream",
     "text": [
      "Starting epoch no. 40\n"
     ]
    },
    {
     "name": "stderr",
     "output_type": "stream",
     "text": [
      "\n",
      "\r\u001b[K\u001b[A\r\u001b[32mProgress:  80%|████████████████████████████████▊        |  ETA: 0:08:20\u001b[39m\u001b[K\r\n",
      "\u001b[34m  loss:  14.55989525197347\u001b[39m\u001b[K\r\u001b[A"
     ]
    },
    {
     "name": "stdout",
     "output_type": "stream",
     "text": [
      "Starting epoch no. 41\n"
     ]
    },
    {
     "name": "stderr",
     "output_type": "stream",
     "text": [
      "\n",
      "\r\u001b[K\u001b[A\r\u001b[32mProgress:  82%|█████████████████████████████████▋       |  ETA: 0:07:30\u001b[39m\u001b[K\r\n",
      "\u001b[34m  loss:  14.616378134155273\u001b[39m\u001b[K\r\u001b[A"
     ]
    },
    {
     "name": "stdout",
     "output_type": "stream",
     "text": [
      "Starting epoch no. 42\n"
     ]
    },
    {
     "name": "stderr",
     "output_type": "stream",
     "text": [
      "\n",
      "\r\u001b[K\u001b[A\r\u001b[32mProgress:  84%|██████████████████████████████████▌      |  ETA: 0:06:40\u001b[39m\u001b[K\r\n",
      "\u001b[34m  loss:  14.446352947743733\u001b[39m\u001b[K\r\u001b[A"
     ]
    },
    {
     "name": "stdout",
     "output_type": "stream",
     "text": [
      "Starting epoch no. 43\n"
     ]
    },
    {
     "name": "stderr",
     "output_type": "stream",
     "text": [
      "\n",
      "\r\u001b[K\u001b[A\r\u001b[32mProgress:  86%|███████████████████████████████████▎     |  ETA: 0:05:50\u001b[39m\u001b[K\r\n",
      "\u001b[34m  loss:  14.420840850830078\u001b[39m\u001b[K\r\u001b[A"
     ]
    },
    {
     "name": "stdout",
     "output_type": "stream",
     "text": [
      "Starting epoch no. 44\n"
     ]
    },
    {
     "name": "stderr",
     "output_type": "stream",
     "text": [
      "\n",
      "\r\u001b[K\u001b[A\r\u001b[32mProgress:  88%|████████████████████████████████████▏    |  ETA: 0:05:00\u001b[39m\u001b[K\r\n",
      "\u001b[34m  loss:  14.28539483795166\u001b[39m\u001b[K\r\u001b[A"
     ]
    },
    {
     "name": "stdout",
     "output_type": "stream",
     "text": [
      "Starting epoch no. 45\n"
     ]
    },
    {
     "name": "stderr",
     "output_type": "stream",
     "text": [
      "\n",
      "\r\u001b[K\u001b[A\r\u001b[32mProgress:  90%|████████████████████████████████████▉    |  ETA: 0:04:10\u001b[39m\u001b[K\r\n",
      "\u001b[34m  loss:  14.218820863342286\u001b[39m\u001b[K\r\u001b[A"
     ]
    },
    {
     "name": "stdout",
     "output_type": "stream",
     "text": [
      "Starting epoch no. 46\n"
     ]
    },
    {
     "name": "stderr",
     "output_type": "stream",
     "text": [
      "\n",
      "\r\u001b[K\u001b[A\r\u001b[32mProgress:  92%|█████████████████████████████████████▊   |  ETA: 0:03:20\u001b[39m\u001b[K\r\n",
      "\u001b[34m  loss:  14.256929047393799\u001b[39m\u001b[K\r\u001b[A"
     ]
    },
    {
     "name": "stdout",
     "output_type": "stream",
     "text": [
      "Starting epoch no. 47\n"
     ]
    },
    {
     "name": "stderr",
     "output_type": "stream",
     "text": [
      "\n",
      "\r\u001b[K\u001b[A\r\u001b[32mProgress:  94%|██████████████████████████████████████▌  |  ETA: 0:02:30\u001b[39m\u001b[K\r\n",
      "\u001b[34m  loss:  14.268455834706625\u001b[39m\u001b[K\r\u001b[A"
     ]
    },
    {
     "name": "stdout",
     "output_type": "stream",
     "text": [
      "Starting epoch no. 48\n"
     ]
    },
    {
     "name": "stderr",
     "output_type": "stream",
     "text": [
      "\n",
      "\r\u001b[K\u001b[A\r\u001b[32mProgress:  96%|███████████████████████████████████████▍ |  ETA: 0:01:40\u001b[39m\u001b[K\r\n",
      "\u001b[34m  loss:  14.252161951446533\u001b[39m\u001b[K\r\u001b[A"
     ]
    },
    {
     "name": "stdout",
     "output_type": "stream",
     "text": [
      "Starting epoch no. 49\n"
     ]
    },
    {
     "name": "stderr",
     "output_type": "stream",
     "text": [
      "\n",
      "\r\u001b[K\u001b[A\r\u001b[32mProgress:  98%|████████████████████████████████████████▏|  ETA: 0:00:50\u001b[39m\u001b[K\r\n",
      "\u001b[34m  loss:  14.170373460388184\u001b[39m\u001b[K\r\u001b[A"
     ]
    },
    {
     "name": "stdout",
     "output_type": "stream",
     "text": [
      "Starting epoch no. 50\n"
     ]
    },
    {
     "name": "stderr",
     "output_type": "stream",
     "text": [
      "\n",
      "\r\u001b[K\u001b[A\r\u001b[32mProgress: 100%|█████████████████████████████████████████| Time: 0:41:39\u001b[39m\u001b[K\r\n",
      "\u001b[34m  loss:  14.226620218658447\u001b[39m\u001b[K"
     ]
    },
    {
     "name": "stderr",
     "output_type": "stream",
     "text": [
      "\n"
     ]
    }
   ],
   "source": [
    "# Training loop\n",
    "\n",
    "progress = Progress(length(1:nr_epochs))\n",
    "for epoch in 1:nr_epochs\n",
    "    println(\"Starting epoch no. $(epoch)\")\n",
    "\n",
    "    batch_losses = zeros(length(data_loader))\n",
    "    batch_no = 1\n",
    "\n",
    "    for (x,_) in data_loader\n",
    "        loss,grad = Flux.withgradient(params) do \n",
    "            score_loss(unet_model,x)            \n",
    "        end\n",
    "        Flux.Optimise.update!(opt,params,grad)\n",
    "        batch_losses[batch_no] = loss\n",
    "        batch_no += 1\n",
    "    end\n",
    "    next!(progress, showvalues=[(:loss, mean(batch_losses))])\n",
    "end"
   ]
  },
  {
   "cell_type": "code",
   "execution_count": null,
   "metadata": {},
   "outputs": [],
   "source": [
    "unet_model"
   ]
  },
  {
   "cell_type": "code",
   "execution_count": null,
   "metadata": {},
   "outputs": [],
   "source": [
    "# Model back to cpu\n",
    "\n",
    "unet_cpu = unet_model |> cpu"
   ]
  },
  {
   "cell_type": "code",
   "execution_count": null,
   "metadata": {},
   "outputs": [],
   "source": [
    "test_sample = first(data_loader)[1] |> cpu"
   ]
  },
  {
   "cell_type": "code",
   "execution_count": null,
   "metadata": {},
   "outputs": [],
   "source": [
    "test_loss = score_loss(unet_cpu, test_sample)"
   ]
  },
  {
   "cell_type": "code",
   "execution_count": 12,
   "metadata": {},
   "outputs": [
    {
     "data": {
      "text/plain": [
       "\"models/diffusion_fullunet_mnist60k_epoch50.bson\""
      ]
     },
     "metadata": {},
     "output_type": "display_data"
    }
   ],
   "source": [
    "model = unet_model |> cpu\n",
    "save_path = joinpath(\"models\",\"diffusion_fullunet_mnist60k_epoch50.bson\")"
   ]
  },
  {
   "cell_type": "code",
   "execution_count": 13,
   "metadata": {},
   "outputs": [],
   "source": [
    "# BSON.@save save_path model"
   ]
  },
  {
   "cell_type": "code",
   "execution_count": null,
   "metadata": {},
   "outputs": [],
   "source": []
  },
  {
   "cell_type": "code",
   "execution_count": null,
   "metadata": {},
   "outputs": [],
   "source": []
  },
  {
   "cell_type": "code",
   "execution_count": null,
   "metadata": {},
   "outputs": [],
   "source": []
  }
 ],
 "metadata": {
  "kernelspec": {
   "display_name": "Julia 1.9.3",
   "language": "julia",
   "name": "julia-1.9"
  },
  "language_info": {
   "file_extension": ".jl",
   "mimetype": "application/julia",
   "name": "julia",
   "version": "1.9.3"
  }
 },
 "nbformat": 4,
 "nbformat_minor": 2
}
